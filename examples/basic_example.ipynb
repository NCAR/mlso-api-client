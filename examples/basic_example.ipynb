{
 "cells": [
  {
   "cell_type": "markdown",
   "id": "8f0c81fd",
   "metadata": {},
   "source": [
    "# Example of using MLSO data API"
   ]
  },
  {
   "cell_type": "markdown",
   "id": "236758c7",
   "metadata": {},
   "source": [
    "## Raw MLSO data API using requests to make web queries\n",
    "\n",
    "Using the raw MLSO data API requires the use of some libraries such as `requests` to query the web server and `json` to parse the results. We also import some libraries for nicer formatting of the results."
   ]
  },
  {
   "cell_type": "code",
   "execution_count": 1,
   "id": "d02fda12",
   "metadata": {},
   "outputs": [],
   "source": [
    "api_baseurl = \"http://api.mlso.ucar.edu\"\n",
    "api_version = \"v1\"\n",
    "\n",
    "import json\n",
    "import requests\n",
    "\n",
    "import pandas as pd\n",
    "from IPython.display import HTML, display\n",
    "\n",
    "import os"
   ]
  },
  {
   "cell_type": "markdown",
   "id": "6ee1a78f",
   "metadata": {},
   "source": [
    "We define a simple routine to display JSON results."
   ]
  },
  {
   "cell_type": "code",
   "execution_count": 2,
   "id": "7f31fb5c",
   "metadata": {},
   "outputs": [],
   "source": [
    "def print_json(s):\n",
    "    print(json.dumps(s, indent=4))"
   ]
  },
  {
   "cell_type": "markdown",
   "id": "0c9bdcd5-0b2f-4054-a994-25bdee107d72",
   "metadata": {},
   "source": [
    "Now we are ready to begin making requests from the API. To start, let's find some basic information about the API server."
   ]
  },
  {
   "cell_type": "code",
   "execution_count": 3,
   "id": "a587046d",
   "metadata": {},
   "outputs": [
    {
     "name": "stdout",
     "output_type": "stream",
     "text": [
      "{\n",
      "    \"documentation\": \"https://mlso-api-client.readthedocs.io/en/latest/\",\n",
      "    \"homepage\": \"https://www2.hao.ucar.edu/mlso\",\n",
      "    \"support\": \"mlso_data_requests@ucar.edu\",\n",
      "    \"version\": \"0.3.1\"\n",
      "}\n"
     ]
    }
   ],
   "source": [
    "about = requests.get(f\"{api_baseurl}/{api_version}/about\").json()\n",
    "print_json(about)"
   ]
  },
  {
   "cell_type": "markdown",
   "id": "7172d954",
   "metadata": {},
   "source": [
    "Next, let's find the instruments whose data is available. More legacy instruments will be added in the future."
   ]
  },
  {
   "cell_type": "code",
   "execution_count": 4,
   "id": "11032b0e",
   "metadata": {},
   "outputs": [
    {
     "name": "stdout",
     "output_type": "stream",
     "text": [
      "[\n",
      "    \"ucomp\",\n",
      "    \"kcor\"\n",
      "]\n"
     ]
    }
   ],
   "source": [
    "instruments = requests.get(f\"{api_baseurl}/{api_version}/instruments\").json()\n",
    "print_json(instruments)"
   ]
  },
  {
   "cell_type": "markdown",
   "id": "6cde2301",
   "metadata": {},
   "source": [
    "Let's collect some information about each of these instruments, such as full name, the identifier we are to refer to them by in the API, and the dates that data are available for them."
   ]
  },
  {
   "cell_type": "code",
   "execution_count": 5,
   "id": "c0bb760a",
   "metadata": {},
   "outputs": [
    {
     "data": {
      "text/html": [
       "<table border=\"1\" class=\"dataframe\">\n",
       "  <thead>\n",
       "    <tr style=\"text-align: right;\">\n",
       "      <th></th>\n",
       "      <th>Instrument</th>\n",
       "      <th>ID</th>\n",
       "      <th>Start Date</th>\n",
       "      <th>End Date</th>\n",
       "    </tr>\n",
       "  </thead>\n",
       "  <tbody>\n",
       "    <tr>\n",
       "      <th>0</th>\n",
       "      <td>Upgraded Coronal Multi-Polarimeter (UCoMP)</td>\n",
       "      <td>ucomp</td>\n",
       "      <td>2021-07-15T17:31:43</td>\n",
       "      <td>2025-03-24T21:03:55</td>\n",
       "    </tr>\n",
       "    <tr>\n",
       "      <th>1</th>\n",
       "      <td>COSMO K-Coronagraph (KCor)</td>\n",
       "      <td>kcor</td>\n",
       "      <td>2013-09-30T18:57:54</td>\n",
       "      <td>2025-03-24T21:04:20</td>\n",
       "    </tr>\n",
       "  </tbody>\n",
       "</table>"
      ],
      "text/plain": [
       "<IPython.core.display.HTML object>"
      ]
     },
     "metadata": {},
     "output_type": "display_data"
    }
   ],
   "source": [
    "info = []\n",
    "for i in instruments:\n",
    "    instrument_info = requests.get(f\"{api_baseurl}/{api_version}/instruments/{i}\").json()\n",
    "    info.append({\n",
    "        \"Instrument\": instrument_info[\"name\"],\n",
    "        \"ID\": i,\n",
    "        \"Start Date\": instrument_info[\"dates\"][\"start-date\"],\n",
    "        \"End Date\": instrument_info[\"dates\"][\"end-date\"]\n",
    "    })\n",
    "\n",
    "display(HTML(pd.DataFrame(info, columns=[\"Instrument\", \"ID\", \"Start Date\", \"End Date\"]).to_html()))"
   ]
  },
  {
   "cell_type": "markdown",
   "id": "88947fbd",
   "metadata": {},
   "source": [
    "Next, let's query for the products available for one of the instruments."
   ]
  },
  {
   "cell_type": "code",
   "execution_count": 6,
   "id": "b82f2eeb-33dc-4a53-b709-8b1a7092c5b2",
   "metadata": {},
   "outputs": [
    {
     "data": {
      "text/html": [
       "<table border=\"1\" class=\"dataframe\">\n",
       "  <thead>\n",
       "    <tr style=\"text-align: right;\">\n",
       "      <th></th>\n",
       "      <th>title</th>\n",
       "      <th>id</th>\n",
       "      <th>description</th>\n",
       "    </tr>\n",
       "  </thead>\n",
       "  <tbody>\n",
       "    <tr>\n",
       "      <th>0</th>\n",
       "      <td>Level 1</td>\n",
       "      <td>l1</td>\n",
       "      <td>IQUV and backgrounds for various wavelengths</td>\n",
       "    </tr>\n",
       "    <tr>\n",
       "      <th>1</th>\n",
       "      <td>Level 1 intensity</td>\n",
       "      <td>intensity</td>\n",
       "      <td>intensity-only level 1</td>\n",
       "    </tr>\n",
       "    <tr>\n",
       "      <th>2</th>\n",
       "      <td>Level 1 mean</td>\n",
       "      <td>mean</td>\n",
       "      <td>mean of level 1 files</td>\n",
       "    </tr>\n",
       "    <tr>\n",
       "      <th>3</th>\n",
       "      <td>Level 1 median</td>\n",
       "      <td>median</td>\n",
       "      <td>median of level 1 files</td>\n",
       "    </tr>\n",
       "    <tr>\n",
       "      <th>4</th>\n",
       "      <td>Level 1 sigma</td>\n",
       "      <td>sigma</td>\n",
       "      <td>standard deviation of level 1 files</td>\n",
       "    </tr>\n",
       "    <tr>\n",
       "      <th>5</th>\n",
       "      <td>Level 2</td>\n",
       "      <td>l2</td>\n",
       "      <td>level 2 products</td>\n",
       "    </tr>\n",
       "    <tr>\n",
       "      <th>6</th>\n",
       "      <td>Level 2 average</td>\n",
       "      <td>l2average</td>\n",
       "      <td>mean, median, standard deviation of level 2 files</td>\n",
       "    </tr>\n",
       "    <tr>\n",
       "      <th>7</th>\n",
       "      <td>Density</td>\n",
       "      <td>density</td>\n",
       "      <td>density</td>\n",
       "    </tr>\n",
       "    <tr>\n",
       "      <th>8</th>\n",
       "      <td>Dynamics</td>\n",
       "      <td>dynamics</td>\n",
       "      <td>level 2 dynamics products</td>\n",
       "    </tr>\n",
       "    <tr>\n",
       "      <th>9</th>\n",
       "      <td>Polarization</td>\n",
       "      <td>polarization</td>\n",
       "      <td>level 2 polarization products</td>\n",
       "    </tr>\n",
       "    <tr>\n",
       "      <th>10</th>\n",
       "      <td>All</td>\n",
       "      <td>all</td>\n",
       "      <td>all products</td>\n",
       "    </tr>\n",
       "  </tbody>\n",
       "</table>"
      ],
      "text/plain": [
       "<IPython.core.display.HTML object>"
      ]
     },
     "metadata": {},
     "output_type": "display_data"
    }
   ],
   "source": [
    "info = requests.get(f\"{api_baseurl}/{api_version}/instruments/ucomp/products\").json()\n",
    "products = info[\"products\"]\n",
    "display(HTML(pd.DataFrame(products, columns=[\"title\", \"id\", \"description\"]).to_html()))"
   ]
  },
  {
   "cell_type": "code",
   "execution_count": 7,
   "id": "f47f739b",
   "metadata": {},
   "outputs": [
    {
     "name": "stdout",
     "output_type": "stream",
     "text": [
      "{\n",
      "    \"end-date\": \"2025-03-24T21:03:55\",\n",
      "    \"files\": [\n",
      "        {\n",
      "            \"date-obs\": \"2025-03-23T19:03:36\",\n",
      "            \"filename\": \"20250323.190336.ucomp.789.l2.fts\",\n",
      "            \"filesize\": 31501440,\n",
      "            \"instrument\": \"ucomp\",\n",
      "            \"obs-plan\": \"synoptic-original-lines.cbk\",\n",
      "            \"product\": \"l2\",\n",
      "            \"url\": \"http://api.mlso.ucar.edu/v1/download?obsday-id=10136&client=API&instrument=ucomp&filename=20250323.190336.ucomp.789.l2.fts\",\n",
      "            \"wave-region\": \"789\",\n",
      "            \"wavelengths\": 5\n",
      "        },\n",
      "        {\n",
      "            \"date-obs\": \"2025-03-24T20:06:52\",\n",
      "            \"filename\": \"20250324.200652.ucomp.789.l2.fts\",\n",
      "            \"filesize\": 31501440,\n",
      "            \"instrument\": \"ucomp\",\n",
      "            \"obs-plan\": \"synoptic-original-lines.cbk\",\n",
      "            \"product\": \"l2\",\n",
      "            \"url\": \"http://api.mlso.ucar.edu/v1/download?obsday-id=10137&client=API&instrument=ucomp&filename=20250324.200652.ucomp.789.l2.fts\",\n",
      "            \"wave-region\": \"789\",\n",
      "            \"wavelengths\": 5\n",
      "        }\n",
      "    ],\n",
      "    \"instrument\": \"ucomp\",\n",
      "    \"product\": \"l2\",\n",
      "    \"start-date\": \"2025-03-23\",\n",
      "    \"total_filesize\": 63002880\n",
      "}\n"
     ]
    },
    {
     "data": {
      "text/html": [
       "<table border=\"1\" class=\"dataframe\">\n",
       "  <thead>\n",
       "    <tr style=\"text-align: right;\">\n",
       "      <th></th>\n",
       "      <th>filename</th>\n",
       "      <th>url</th>\n",
       "    </tr>\n",
       "  </thead>\n",
       "  <tbody>\n",
       "    <tr>\n",
       "      <th>0</th>\n",
       "      <td>20250323.190336.ucomp.789.l2.fts</td>\n",
       "      <td>http://api.mlso.ucar.edu/v1/download?obsday-id=10136&amp;client=API&amp;instrument=ucomp&amp;filename=20250323.190336.ucomp.789.l2.fts</td>\n",
       "    </tr>\n",
       "    <tr>\n",
       "      <th>1</th>\n",
       "      <td>20250324.200652.ucomp.789.l2.fts</td>\n",
       "      <td>http://api.mlso.ucar.edu/v1/download?obsday-id=10137&amp;client=API&amp;instrument=ucomp&amp;filename=20250324.200652.ucomp.789.l2.fts</td>\n",
       "    </tr>\n",
       "  </tbody>\n",
       "</table>"
      ],
      "text/plain": [
       "<IPython.core.display.HTML object>"
      ]
     },
     "metadata": {},
     "output_type": "display_data"
    }
   ],
   "source": [
    "info = requests.get(f\"{api_baseurl}/{api_version}/instruments/ucomp/products/l2?wave-region=789&start-date=2025-03-23\").json()\n",
    "print_json(info)\n",
    "display(HTML(pd.DataFrame(info[\"files\"], columns=[\"filename\", \"url\"]).to_html()))"
   ]
  },
  {
   "cell_type": "markdown",
   "id": "afdf420e-cced-489a-a0d2-f2c7dc8cac54",
   "metadata": {},
   "source": [
    "Downloading a file requires first registering an email address with the HAO website. If you don't already have an account registered, go to [the registration page] to register one.\n",
    "\n",
    "[the registration page]: https://registration.hao.ucar.edu"
   ]
  },
  {
   "cell_type": "code",
   "execution_count": 8,
   "id": "3a96eaba-810d-4bfd-8609-c66184a3c915",
   "metadata": {},
   "outputs": [
    {
     "name": "stdout",
     "output_type": "stream",
     "text": [
      "20250323.190336.ucomp.789.l2.fts downloaded\n"
     ]
    }
   ],
   "source": [
    "filename = info[\"files\"][0][\"filename\"]\n",
    "url = info[\"files\"][0][\"url\"]\n",
    "\n",
    "session = requests.Session()\n",
    "\n",
    "# authenticate first\n",
    "username = \"email@example.com\"\n",
    "r = session.get(url = f\"{api_baseurl}/authenticate?username={username}\")\n",
    "\n",
    "# then download\n",
    "r = session.get(url, stream=True, cookies=session.cookies.get_dict())\n",
    "with open(filename, \"wb\") as handle:\n",
    "    for data in r.iter_content(chunk_size=1024 * 1024):\n",
    "        handle.write(data)\n",
    "\n",
    "if os.path.exists(filename):\n",
    "    print(f\"{filename} downloaded\")"
   ]
  },
  {
   "cell_type": "markdown",
   "id": "e802aa5d-2c36-43bf-9d95-91e3651adada",
   "metadata": {},
   "source": [
    "## mlso.api.client API\n",
    "\n",
    "The `mlso.api.client` module provides convenience routines to avoid the use of low-level libraries dealing with formulating the URLs in the webservice requests, making the requests, parsing JSON responses, etc."
   ]
  },
  {
   "cell_type": "code",
   "execution_count": 9,
   "id": "49c4dd64",
   "metadata": {},
   "outputs": [
    {
     "name": "stdout",
     "output_type": "stream",
     "text": [
      "Using client version v0.3.2\n"
     ]
    }
   ],
   "source": [
    "from mlso.api import client\n",
    "\n",
    "print(f\"Using client version v{client.__version__}\")"
   ]
  },
  {
   "cell_type": "markdown",
   "id": "8e97ea53-576b-40aa-b04f-5ed76d7ddde3",
   "metadata": {},
   "source": [
    "Instead of having to construct URLs and make the web requests, we can now use routines provides by the client API. The `about` routine now gives information about the API web server."
   ]
  },
  {
   "cell_type": "code",
   "execution_count": 10,
   "id": "4e029fa8-f29a-40a7-b60d-3ef199ca6d73",
   "metadata": {},
   "outputs": [
    {
     "name": "stdout",
     "output_type": "stream",
     "text": [
      "Using mlsoapi v0.3.1, see https://mlso-api-client.readthedocs.io/en/latest/ for more information.\n"
     ]
    }
   ],
   "source": [
    "info = client.about()\n",
    "print(f\"Using mlsoapi v{info['version']}, see {info['documentation']} for more information.\")"
   ]
  },
  {
   "cell_type": "markdown",
   "id": "0e492906-81b4-4e12-830d-1bf05a0ea305",
   "metadata": {},
   "source": [
    "The `instruments` routine combines potentially many API calls to give basic information about all the available instruments."
   ]
  },
  {
   "cell_type": "code",
   "execution_count": 11,
   "id": "244fcdcb-7bfb-43ed-9c95-c4fcca3d6399",
   "metadata": {},
   "outputs": [
    {
     "data": {
      "text/html": [
       "<table border=\"1\" class=\"dataframe\">\n",
       "  <thead>\n",
       "    <tr style=\"text-align: right;\">\n",
       "      <th></th>\n",
       "      <th>name</th>\n",
       "      <th>id</th>\n",
       "      <th>start-date</th>\n",
       "      <th>end-date</th>\n",
       "    </tr>\n",
       "  </thead>\n",
       "  <tbody>\n",
       "    <tr>\n",
       "      <th>0</th>\n",
       "      <td>COSMO K-Coronagraph (KCor)</td>\n",
       "      <td>kcor</td>\n",
       "      <td>2013-09-30T18:57:54</td>\n",
       "      <td>2025-03-24T21:04:20</td>\n",
       "    </tr>\n",
       "    <tr>\n",
       "      <th>1</th>\n",
       "      <td>Upgraded Coronal Multi-Polarimeter (UCoMP)</td>\n",
       "      <td>ucomp</td>\n",
       "      <td>2021-07-15T17:31:43</td>\n",
       "      <td>2025-03-24T21:03:55</td>\n",
       "    </tr>\n",
       "  </tbody>\n",
       "</table>"
      ],
      "text/plain": [
       "<IPython.core.display.HTML object>"
      ]
     },
     "metadata": {},
     "output_type": "display_data"
    }
   ],
   "source": [
    "info = client.instruments()\n",
    "display(HTML(pd.DataFrame(info, columns=[\"name\", \"id\", \"start-date\", \"end-date\"]).to_html()))"
   ]
  },
  {
   "cell_type": "markdown",
   "id": "20178a24-a228-4eba-8804-e9e1df60e25c",
   "metadata": {},
   "source": [
    "The `products` routine gives a list of products with basic information."
   ]
  },
  {
   "cell_type": "code",
   "execution_count": 12,
   "id": "79134319-06e6-44c2-9c15-641f8373aa48",
   "metadata": {},
   "outputs": [
    {
     "data": {
      "text/html": [
       "<table border=\"1\" class=\"dataframe\">\n",
       "  <thead>\n",
       "    <tr style=\"text-align: right;\">\n",
       "      <th></th>\n",
       "      <th>title</th>\n",
       "      <th>id</th>\n",
       "      <th>description</th>\n",
       "    </tr>\n",
       "  </thead>\n",
       "  <tbody>\n",
       "    <tr>\n",
       "      <th>0</th>\n",
       "      <td>Level 1</td>\n",
       "      <td>l1</td>\n",
       "      <td>IQUV and backgrounds for various wavelengths</td>\n",
       "    </tr>\n",
       "    <tr>\n",
       "      <th>1</th>\n",
       "      <td>Level 1 intensity</td>\n",
       "      <td>intensity</td>\n",
       "      <td>intensity-only level 1</td>\n",
       "    </tr>\n",
       "    <tr>\n",
       "      <th>2</th>\n",
       "      <td>Level 1 mean</td>\n",
       "      <td>mean</td>\n",
       "      <td>mean of level 1 files</td>\n",
       "    </tr>\n",
       "    <tr>\n",
       "      <th>3</th>\n",
       "      <td>Level 1 median</td>\n",
       "      <td>median</td>\n",
       "      <td>median of level 1 files</td>\n",
       "    </tr>\n",
       "    <tr>\n",
       "      <th>4</th>\n",
       "      <td>Level 1 sigma</td>\n",
       "      <td>sigma</td>\n",
       "      <td>standard deviation of level 1 files</td>\n",
       "    </tr>\n",
       "    <tr>\n",
       "      <th>5</th>\n",
       "      <td>Level 2</td>\n",
       "      <td>l2</td>\n",
       "      <td>level 2 products</td>\n",
       "    </tr>\n",
       "    <tr>\n",
       "      <th>6</th>\n",
       "      <td>Level 2 average</td>\n",
       "      <td>l2average</td>\n",
       "      <td>mean, median, standard deviation of level 2 files</td>\n",
       "    </tr>\n",
       "    <tr>\n",
       "      <th>7</th>\n",
       "      <td>Density</td>\n",
       "      <td>density</td>\n",
       "      <td>density</td>\n",
       "    </tr>\n",
       "    <tr>\n",
       "      <th>8</th>\n",
       "      <td>Dynamics</td>\n",
       "      <td>dynamics</td>\n",
       "      <td>level 2 dynamics products</td>\n",
       "    </tr>\n",
       "    <tr>\n",
       "      <th>9</th>\n",
       "      <td>Polarization</td>\n",
       "      <td>polarization</td>\n",
       "      <td>level 2 polarization products</td>\n",
       "    </tr>\n",
       "    <tr>\n",
       "      <th>10</th>\n",
       "      <td>All</td>\n",
       "      <td>all</td>\n",
       "      <td>all products</td>\n",
       "    </tr>\n",
       "  </tbody>\n",
       "</table>"
      ],
      "text/plain": [
       "<IPython.core.display.HTML object>"
      ]
     },
     "metadata": {},
     "output_type": "display_data"
    }
   ],
   "source": [
    "info = client.products(\"ucomp\")[\"products\"]\n",
    "display(HTML(pd.DataFrame(info, columns=[\"title\", \"id\", \"description\"]).to_html()))"
   ]
  },
  {
   "cell_type": "markdown",
   "id": "41cfed41-efbb-43a6-8692-553495037e40",
   "metadata": {},
   "source": [
    "The `files` routine provides a list of files, with URLs to download them, that match a set of filters."
   ]
  },
  {
   "cell_type": "code",
   "execution_count": 13,
   "id": "2f25a4f3-8d8b-4529-b156-f24dad7def33",
   "metadata": {},
   "outputs": [
    {
     "data": {
      "text/html": [
       "<table border=\"1\" class=\"dataframe\">\n",
       "  <thead>\n",
       "    <tr style=\"text-align: right;\">\n",
       "      <th></th>\n",
       "      <th>filename</th>\n",
       "      <th>url</th>\n",
       "    </tr>\n",
       "  </thead>\n",
       "  <tbody>\n",
       "    <tr>\n",
       "      <th>0</th>\n",
       "      <td>20250323.190336.ucomp.789.l2.fts</td>\n",
       "      <td>http://api.mlso.ucar.edu/v1/download?obsday-id=10136&amp;client=python&amp;instrument=ucomp&amp;filename=20250323.190336.ucomp.789.l2.fts</td>\n",
       "    </tr>\n",
       "    <tr>\n",
       "      <th>1</th>\n",
       "      <td>20250324.200652.ucomp.789.l2.fts</td>\n",
       "      <td>http://api.mlso.ucar.edu/v1/download?obsday-id=10137&amp;client=python&amp;instrument=ucomp&amp;filename=20250324.200652.ucomp.789.l2.fts</td>\n",
       "    </tr>\n",
       "  </tbody>\n",
       "</table>"
      ],
      "text/plain": [
       "<IPython.core.display.HTML object>"
      ]
     },
     "metadata": {},
     "output_type": "display_data"
    }
   ],
   "source": [
    "info = client.files(\"ucomp\", \"l2\", {\"wave-region\": \"789\", \"start-date\": \"2025-03-23\"})\n",
    "display(HTML(pd.DataFrame(info[\"files\"], columns=[\"filename\", \"url\"]).to_html()))"
   ]
  },
  {
   "cell_type": "markdown",
   "id": "f2b89465-8b51-40bf-8eb7-ece5dc4c3884",
   "metadata": {},
   "source": [
    "The files can be downloaded, though the `authenticate` routine must be called before starting to download files. An email address must be registered with the HAO website to download files. Use [the registration page] mentioned previously to register one.\n",
    "\n",
    "[the registration page]: https://registration.hao.ucar.edu"
   ]
  },
  {
   "cell_type": "code",
   "execution_count": 14,
   "id": "29f3614a-1f1a-47e2-b090-c592bc9eca9c",
   "metadata": {},
   "outputs": [
    {
     "name": "stdout",
     "output_type": "stream",
     "text": [
      "downloaded 20250323.190336.ucomp.789.l2.fts to data/20250323.190336.ucomp.789.l2.fts\n",
      "downloaded 20250324.200652.ucomp.789.l2.fts to data/20250324.200652.ucomp.789.l2.fts\n"
     ]
    }
   ],
   "source": [
    "client.authenticate(\"email@example.com\")\n",
    "\n",
    "output_dir = \"./data\"\n",
    "if not os.path.exists(output_dir):\n",
    "    os.mkdir(output_dir)\n",
    "\n",
    "for file in info[\"files\"]:\n",
    "    path = client.download_file(file, output_dir)\n",
    "    print(f\"downloaded {file['filename']} to {path}\")"
   ]
  },
  {
   "cell_type": "code",
   "execution_count": null,
   "id": "11e0b8c3-cd31-4b24-8bd8-cec27275c920",
   "metadata": {},
   "outputs": [],
   "source": []
  }
 ],
 "metadata": {
  "kernelspec": {
   "display_name": "Python 3 (ipykernel)",
   "language": "python",
   "name": "python3"
  },
  "language_info": {
   "codemirror_mode": {
    "name": "ipython",
    "version": 3
   },
   "file_extension": ".py",
   "mimetype": "text/x-python",
   "name": "python",
   "nbconvert_exporter": "python",
   "pygments_lexer": "ipython3",
   "version": "3.11.4"
  }
 },
 "nbformat": 4,
 "nbformat_minor": 5
}
